{
 "cells": [
  {
   "cell_type": "markdown",
   "id": "c605014a-d80c-4e4a-8efc-c1a011908a3e",
   "metadata": {
    "slideshow": {
     "slide_type": "skip"
    },
    "tags": [],
    "user_expressions": []
   },
   "source": [
    "---\n",
    "title: Datasets II\n",
    "subtitle: Work with Satellite Images and Other Multi-dimensional Data\n",
    "authors:\n",
    "  - name: Ian Carroll\n",
    "    affiliations:\n",
    "      - University of Maryland Baltimore County\n",
    "      - NASA Goddard Space Flight Center\n",
    "  - name: Rachel Wegener\n",
    "    affiliations:\n",
    "      - University of Maryland College Park\n",
    "github: nasa-sarp/lesson-datasets-ii-east\n",
    "---"
   ]
  },
  {
   "cell_type": "markdown",
   "id": "4624bdb3-a9e7-47da-987f-102607933888",
   "metadata": {
    "slideshow": {
     "slide_type": "skip"
    },
    "tags": [],
    "user_expressions": []
   },
   "source": [
    "::::{grid}\n",
    "\n",
    ":::{card}\n",
    ":header: Context 🤔\n",
    "Gridded data, raster, and array are all descriptors for data\n",
    "that doen't easilly fit in a spreadsheet.\n",
    ":::\n",
    "\n",
    ":::{card}\n",
    ":header: Outcome 🎓\n",
    "Exploring a NetCDF file that contains data from a remote sensing platform will take just a few lines\n",
    "of Python.\n",
    ":::\n",
    "\n",
    ":::{card}\n",
    ":header: Skills 🤓\n",
    "Encountering an error won't be a roadblock; you'll use it to increase understanding!\n",
    ":::\n",
    "::::"
   ]
  },
  {
   "cell_type": "code",
   "execution_count": null,
   "id": "e9583960-4b1f-440c-a316-2545bbe71034",
   "metadata": {
    "jupyter": {
     "source_hidden": true
    },
    "slideshow": {
     "slide_type": "skip"
    },
    "tags": []
   },
   "outputs": [],
   "source": [
    "from pathlib import Path\n",
    "import warnings\n",
    "import logging\n",
    "\n",
    "import xarray\n",
    "import numpy\n",
    "import pandas\n",
    "import geopandas\n",
    "import rioxarray\n",
    "import hvplot.pandas\n",
    "import hvplot.xarray\n",
    "import holoviews as hv\n",
    "\n",
    "DATADIR = Path('/efs/sarp/data/rawdata_readonly')\n",
    "options = xarray.set_options(display_style='text')\n",
    "hv.opts.defaults(\n",
    "    hv.opts.Curve(active_tools=[], toolbar=None),\n",
    "    hv.opts.Scatter(active_tools=[], toolbar=None),\n",
    "    hv.opts.Image(active_tools=[]),\n",
    "    hv.opts.Points(active_tools=[]),\n",
    "    hv.opts.Layout(toolbar=None),\n",
    ")\n",
    "warnings.simplefilter(\"ignore\")\n",
    "logging.captureWarnings(True)"
   ]
  },
  {
   "cell_type": "code",
   "execution_count": null,
   "id": "1d50b5bf-e57a-4a50-b30d-5d2df90dac08",
   "metadata": {
    "slideshow": {
     "slide_type": "slide"
    },
    "tags": []
   },
   "outputs": [],
   "source": [
    "hv.extension('bokeh')"
   ]
  },
  {
   "cell_type": "markdown",
   "id": "67e2d6a6-62a9-4e74-8092-c72064bb0323",
   "metadata": {
    "slideshow": {
     "slide_type": "slide"
    },
    "tags": [],
    "user_expressions": []
   },
   "source": [
    "## Data in Labelled Arrays"
   ]
  },
  {
   "cell_type": "markdown",
   "id": "2a8185ce-1fb3-4394-9e01-06ff186f7aac",
   "metadata": {
    "slideshow": {
     "slide_type": "skip"
    },
    "tags": [],
    "user_expressions": []
   },
   "source": [
    "Python's built-in `list` data structure provides a basic, ultimately too basic, way to create multi-dimensional data arrays. Each level of nesting increases the number of dimensions: a scalar such as `42` is a zero-dimensional array, while `[42]`, `[[42]]`, and `[[[42]]]` are technically 1, 2, and 3 dimensional arrays. When working with multi-dimensional data, thinking about \"levels of nesting\" is more general than thinking about \"rows\" and \"columns\".\n",
    "\n",
    "NumPy and XArray provide enhancements that make data processing easier to code and faster to run. This section introduces those packages along with the vocabulary they have adopted from pre-existing data conventions."
   ]
  },
  {
   "cell_type": "markdown",
   "id": "17f430d9-e587-4f77-9206-020e66650566",
   "metadata": {
    "slideshow": {
     "slide_type": "skip"
    },
    "tags": [],
    "user_expressions": []
   },
   "source": [
    ":::{seealso} Dimension\n",
    "Dimensions are the axes along which individual data values are stacked in an array and usually refer to a physical location in space or time (e.g. depth, latitude, year, or date).\n",
    "\n",
    "A 1D (one-dimensional) array, like a time-series, has a single axis. A 2D (two-dimensional) array, like a heat-map, has two axes. Dimensions have three properties: name, size, and position.\n",
    ":::"
   ]
  },
  {
   "cell_type": "markdown",
   "id": "49ed5eee-10f9-4976-9b8b-3b5ede1b617a",
   "metadata": {
    "slideshow": {
     "slide_type": "skip"
    },
    "tags": [],
    "user_expressions": []
   },
   "source": [
    "A vertical profile of water temperature has a single dimension."
   ]
  },
  {
   "cell_type": "code",
   "execution_count": null,
   "id": "b5df0813-fb19-4319-823c-a2a5f6aaf6c9",
   "metadata": {
    "slideshow": {
     "slide_type": "slide"
    },
    "tags": []
   },
   "outputs": [],
   "source": [
    "temperature = [\n",
    "    18.7,\n",
    "    18.3,\n",
    "    17.8,\n",
    "    15.2,\n",
    "    14.6,\n",
    "    14.2,\n",
    "    14.3,\n",
    "]\n",
    "temperature[3]"
   ]
  },
  {
   "cell_type": "markdown",
   "id": "2dd67361-960a-42c2-bcd8-f7aa6163c841",
   "metadata": {
    "slideshow": {
     "slide_type": "skip"
    },
    "tags": [],
    "user_expressions": []
   },
   "source": [
    "Multiple profiles from sequential times stack together on a second dimension. Note that the *second* dimension is the *second* level of nesting."
   ]
  },
  {
   "cell_type": "code",
   "execution_count": null,
   "id": "9af7fc9b-b49c-429b-ac4e-d5c249f1db5a",
   "metadata": {
    "slideshow": {
     "slide_type": "slide"
    },
    "tags": []
   },
   "outputs": [],
   "source": [
    "temperature = [\n",
    "    [18.7, 18.9, 18.4],\n",
    "    [18.3, 18.4, 18.2],\n",
    "    [17.8, 17.5, 18.1],\n",
    "    [15.2, 14.9, 17.8],\n",
    "    [14.6, 14.6, 17.5],\n",
    "    [14.2, 14.1, 17.3],\n",
    "    [14.3, 14.1, 17.1],\n",
    "]\n",
    "temperature[4][2]"
   ]
  },
  {
   "cell_type": "markdown",
   "id": "b3893a46-0b9d-455e-8ab3-8ce5bcb82c86",
   "metadata": {
    "slideshow": {
     "slide_type": "skip"
    },
    "tags": [],
    "user_expressions": []
   },
   "source": [
    "The NumPy package makes this nested list into an array, with fixed data type, that is aware of its dimensionality. These are two critical differences between a `numpy.ndarray` and a `list`."
   ]
  },
  {
   "cell_type": "code",
   "execution_count": null,
   "id": "0764f699-6a56-45f5-8ed9-e0c6079823d8",
   "metadata": {
    "slideshow": {
     "slide_type": "slide"
    },
    "tags": []
   },
   "outputs": [],
   "source": [
    "temperature = numpy.array(temperature, dtype=float)\n",
    "temperature.shape"
   ]
  },
  {
   "cell_type": "markdown",
   "id": "6ed695ef-6224-45e8-946b-7dd6b5d3e487",
   "metadata": {
    "slideshow": {
     "slide_type": "skip"
    },
    "tags": [],
    "user_expressions": []
   },
   "source": [
    ":::{seealso} Shape\n",
    "The shape of an array is the ordered sequence of dimension sizes. Shape depends on two of the three properties of each dimension: size and position.\n",
    ":::"
   ]
  },
  {
   "cell_type": "markdown",
   "id": "be562c51-ea32-4ad8-bf14-13068b15d953",
   "metadata": {
    "slideshow": {
     "slide_type": "skip"
    },
    "tags": [],
    "user_expressions": []
   },
   "source": [
    "The XArray package converts a `numpy.ndarray` to an array with named dimensions."
   ]
  },
  {
   "cell_type": "code",
   "execution_count": null,
   "id": "0c9e4b3d-fd16-4350-b0a2-7698b17c1de0",
   "metadata": {
    "slideshow": {
     "slide_type": "slide"
    },
    "tags": []
   },
   "outputs": [],
   "source": [
    "profile = xarray.DataArray(\n",
    "    temperature,\n",
    "    dims=('depth', 'time'),\n",
    "    name='temperature',\n",
    ")\n",
    "profile"
   ]
  },
  {
   "cell_type": "markdown",
   "id": "bc182c3c-10f3-4c80-9d96-82ae59f34be6",
   "metadata": {
    "slideshow": {
     "slide_type": "skip"
    },
    "tags": [],
    "user_expressions": []
   },
   "source": [
    ":::{seealso} Coordinate\n",
    "Coordinates are special data arrays that provide values, often locations in space or time, for one of the dimensions.\n",
    "\n",
    "A coordinate is a 1D data array with two additional requirements: a name equal to the name of its dimension, a length equal to the size of its dimension.\n",
    ":::"
   ]
  },
  {
   "cell_type": "markdown",
   "id": "2d57dc8b-cb58-46da-aaac-bf22b55bbebd",
   "metadata": {
    "slideshow": {
     "slide_type": "skip"
    },
    "tags": [],
    "user_expressions": []
   },
   "source": [
    "Adding both depth and time arrays enriches the temperature data with coordinates."
   ]
  },
  {
   "cell_type": "code",
   "execution_count": null,
   "id": "51002a74-29fb-49f2-951f-a0094a3bebec",
   "metadata": {
    "slideshow": {
     "slide_type": "slide"
    },
    "tags": []
   },
   "outputs": [],
   "source": [
    "profile['depth'] = ('depth', [0.0, 2.5, 5.0, 7.5, 10.0, 12.5, 15.0])\n",
    "profile"
   ]
  },
  {
   "cell_type": "code",
   "execution_count": null,
   "id": "525c6e31-6e85-4287-a973-836c570d203d",
   "metadata": {
    "scrolled": true,
    "slideshow": {
     "slide_type": "slide"
    },
    "tags": [
     "raises-exception"
    ]
   },
   "outputs": [],
   "source": [
    "profile['time'] = ('time', pandas.date_range('2023-06-14', periods=2))\n",
    "profile"
   ]
  },
  {
   "cell_type": "markdown",
   "id": "6849674a-58e7-4816-8e0d-cb46cbc50822",
   "metadata": {
    "slideshow": {
     "slide_type": "skip"
    },
    "tags": [],
    "user_expressions": []
   },
   "source": [
    "Reading the error message points to a mistake in the previous cell: the number of periods was at fault."
   ]
  },
  {
   "cell_type": "code",
   "execution_count": null,
   "id": "3c7bccdd-0b6a-4d8b-a8ef-304ea2b2fbba",
   "metadata": {
    "slideshow": {
     "slide_type": "slide"
    },
    "tags": []
   },
   "outputs": [],
   "source": [
    "profile['time'] = ('time', pandas.date_range('2023-06-14', periods=3))\n",
    "profile"
   ]
  },
  {
   "cell_type": "markdown",
   "id": "8a4bce39-059f-41e4-b946-c4cd00e0f45b",
   "metadata": {
    "slideshow": {
     "slide_type": "skip"
    },
    "tags": [],
    "user_expressions": []
   },
   "source": [
    ":::{note} Review\n",
    "XArray maintains all three properties of each dimension (name, size, and position) and only lists under \"Coordinates\" those arrays meeting the requirements (name equal to dimension name, length equal to dimension size).\n",
    ":::"
   ]
  },
  {
   "cell_type": "markdown",
   "id": "df37c865-06c2-4f0b-8142-265f8e91c660",
   "metadata": {
    "slideshow": {
     "slide_type": "skip"
    },
    "tags": [],
    "user_expressions": []
   },
   "source": [
    "With hvPlot's plugin for XArray, labels you include on your data array apear automatically in plots."
   ]
  },
  {
   "cell_type": "code",
   "execution_count": null,
   "id": "85846200-c431-4cd4-8f3f-7c509f0c9477",
   "metadata": {
    "slideshow": {
     "slide_type": "slide"
    },
    "tags": []
   },
   "outputs": [],
   "source": [
    "(\n",
    "    profile\n",
    "    .hvplot(y='depth', by='time', aspect=0.5)\n",
    "    .opts(invert_yaxis=True)\n",
    ")"
   ]
  },
  {
   "cell_type": "markdown",
   "id": "76acf474-88cc-4d8b-86e1-f1a8f1ca4655",
   "metadata": {
    "slideshow": {
     "slide_type": "slide"
    },
    "tags": [],
    "user_expressions": []
   },
   "source": [
    "## Array Operations"
   ]
  },
  {
   "cell_type": "markdown",
   "id": "f1cf722c-b5f6-402c-a948-b380f4ff0a18",
   "metadata": {
    "slideshow": {
     "slide_type": "skip"
    },
    "tags": [],
    "user_expressions": []
   },
   "source": [
    "Arrays make bulk operations possible, which makes code easier to write and faster to run. This section introduces a few important operations for when you need to drill-down on part of an array, make some calculations, or combine arrays."
   ]
  },
  {
   "cell_type": "markdown",
   "id": "0a48eafd-c9dc-40ec-b346-849eff0b1e00",
   "metadata": {
    "slideshow": {
     "slide_type": "skip"
    },
    "tags": [],
    "user_expressions": []
   },
   "source": [
    "### Selecting"
   ]
  },
  {
   "cell_type": "markdown",
   "id": "35feb428-f786-4256-bce9-a26f4439efb7",
   "metadata": {
    "slideshow": {
     "slide_type": "skip"
    },
    "tags": [],
    "user_expressions": []
   },
   "source": [
    ":::{tip} xarray.DataArray.sel\n",
    "Returns a new xarray.DataArray whose data is given by selecting index labels along the specified dimension(s).\n",
    "\n",
    "Supply a dictionary with dimension names as keys and values that can be looked up in the corresponding coordinate.\n",
    ":::"
   ]
  },
  {
   "cell_type": "markdown",
   "id": "a2cd7828-b630-4324-8eb4-12ac698bb599",
   "metadata": {
    "slideshow": {
     "slide_type": "skip"
    },
    "tags": [],
    "user_expressions": []
   },
   "source": [
    "Pass a scalar in a dictionary with dimension names as keys to subset from an array at a single location on the given dimension. The data array returned has one less dimension."
   ]
  },
  {
   "cell_type": "code",
   "execution_count": null,
   "id": "1d5c3f04-ca3c-4c00-a201-eb1aaf2a0346",
   "metadata": {
    "slideshow": {
     "slide_type": "slide"
    },
    "tags": []
   },
   "outputs": [],
   "source": [
    "profile.sel({'depth': 7.5})"
   ]
  },
  {
   "cell_type": "markdown",
   "id": "e2cccb43-163a-4426-bcbf-41afa77562c3",
   "metadata": {
    "slideshow": {
     "slide_type": "skip"
    },
    "tags": [],
    "user_expressions": []
   },
   "source": [
    "Pass a `slice` with starting and ending bounds (or use `None` for unbounded) to return a data array confined to the given coordinate range."
   ]
  },
  {
   "cell_type": "code",
   "execution_count": null,
   "id": "a6cfa9b8-093c-463f-a559-cab2fe55b1ec",
   "metadata": {
    "slideshow": {
     "slide_type": "slide"
    },
    "tags": []
   },
   "outputs": [],
   "source": [
    "profile.sel({'depth': slice(None, 7.5)})"
   ]
  },
  {
   "cell_type": "markdown",
   "id": "e655908d-0b70-4b70-b9e9-6b4c7f502da2",
   "metadata": {
    "slideshow": {
     "slide_type": "skip"
    },
    "tags": [],
    "user_expressions": []
   },
   "source": [
    ":::{tip} xarray.DataArray.where(cond, other=nan)\n",
    "Returns a new xarray.DataArray with the original data where `cond` is `True`, elsewhere its data comes from `other`.\n",
    ":::"
   ]
  },
  {
   "cell_type": "markdown",
   "id": "73c19514-88c0-4fe8-b262-12a74c1fbc37",
   "metadata": {
    "slideshow": {
     "slide_type": "skip"
    },
    "tags": [],
    "user_expressions": []
   },
   "source": [
    "Masking is another way of selecting from an array, but without subsetting. Masking requires a boolean array (an array of `True` or `False` values) as an argument."
   ]
  },
  {
   "cell_type": "code",
   "execution_count": null,
   "id": "cf524ed2-e2d1-403b-85ff-3c8b0f085b26",
   "metadata": {
    "slideshow": {
     "slide_type": "slide"
    },
    "tags": []
   },
   "outputs": [],
   "source": [
    "profile['time'].dt.dayofweek == 2"
   ]
  },
  {
   "cell_type": "code",
   "execution_count": null,
   "id": "850fdfb4-2933-4171-abb4-a78eaa77d716",
   "metadata": {},
   "outputs": [],
   "source": [
    "profile.where(\n",
    "    cond=profile['time'].dt.dayofweek == 2,\n",
    ")"
   ]
  },
  {
   "cell_type": "markdown",
   "id": "ac0429fe-54f6-4bed-b366-a1dda94a9fb6",
   "metadata": {
    "slideshow": {
     "slide_type": "skip"
    },
    "tags": [],
    "user_expressions": []
   },
   "source": [
    "### Transforming"
   ]
  },
  {
   "cell_type": "markdown",
   "id": "cc5185ab-0873-4097-af61-eccef78aacaf",
   "metadata": {
    "slideshow": {
     "slide_type": "skip"
    },
    "tags": [],
    "user_expressions": []
   },
   "source": [
    "Array's have several methods, including calculating averages, that accept the name of the dimension(s) to eliminate from the array by some calculation."
   ]
  },
  {
   "cell_type": "code",
   "execution_count": null,
   "id": "5159e5b7-fb8b-44bf-8cd6-a42444e956a5",
   "metadata": {
    "slideshow": {
     "slide_type": "slide"
    },
    "tags": []
   },
   "outputs": [],
   "source": [
    "t_avg = profile.mean(dim='depth')\n",
    "t_avg"
   ]
  },
  {
   "cell_type": "markdown",
   "id": "713c1eef-e480-4708-932f-661933a6385b",
   "metadata": {
    "slideshow": {
     "slide_type": "skip"
    },
    "tags": [],
    "user_expressions": []
   },
   "source": [
    "XArray provides a container, the `xarray.Dataset`, that holds one or more arrays. It will be convenient for demonstrating array transformations that produce arrays having shared coordinates."
   ]
  },
  {
   "cell_type": "code",
   "execution_count": null,
   "id": "e9f34fa7-96cd-4a65-af38-8bde395702f4",
   "metadata": {
    "slideshow": {
     "slide_type": "slide"
    },
    "tags": []
   },
   "outputs": [],
   "source": [
    "station = profile.to_dataset()\n",
    "station"
   ]
  },
  {
   "cell_type": "markdown",
   "id": "b6b10c76-da4c-4d2a-aff8-274c5780ced7",
   "metadata": {
    "slideshow": {
     "slide_type": "skip"
    },
    "tags": [],
    "user_expressions": []
   },
   "source": [
    "Algebra works on arrays by performing the operation (`+`, `-`, `*`, `/`, `%`, `//`, or `**`) pair-wise on each element. When arrays do not have the same dimensions, XArray uses their labels to make the arrays compatible."
   ]
  },
  {
   "cell_type": "code",
   "execution_count": null,
   "id": "2537ec64-3f9b-442d-8e8a-00ab12f49ef6",
   "metadata": {
    "slideshow": {
     "slide_type": "slide"
    },
    "tags": []
   },
   "outputs": [],
   "source": [
    "station['wind'] = (0.02 * t_avg) ** -2\n",
    "station"
   ]
  },
  {
   "cell_type": "code",
   "execution_count": null,
   "id": "9511d499-6f90-4a1e-95df-79f4b52bc3bb",
   "metadata": {
    "slideshow": {
     "slide_type": "slide"
    },
    "tags": []
   },
   "outputs": [],
   "source": [
    "station['density'] = (\n",
    "    19.6\n",
    "    - 12.8 * numpy.log(station['temperature'])\n",
    "    + 2.3 * station['wind']\n",
    ")\n",
    "station"
   ]
  },
  {
   "cell_type": "markdown",
   "id": "1573d3fd-30f8-4d45-9157-fcc43ecfad5b",
   "metadata": {
    "slideshow": {
     "slide_type": "skip"
    },
    "tags": [],
    "user_expressions": []
   },
   "source": [
    "The plots generated with hvPlot can be combined into subplots by concatenating (with `+`) them together."
   ]
  },
  {
   "cell_type": "code",
   "execution_count": null,
   "id": "15e4b2b5-7858-4cae-b594-979b32da1632",
   "metadata": {
    "slideshow": {
     "slide_type": "slide"
    },
    "tags": []
   },
   "outputs": [],
   "source": [
    "kwargs = {'y': 'depth', 'by': 'time', 'aspect': 0.5}\n",
    "t_plt = station['temperature'].hvplot(**kwargs)\n",
    "s_plt = station['density'].hvplot(**kwargs)\n",
    "(\n",
    "    t_plt.opts(invert_yaxis=True, show_legend=False)\n",
    "    + s_plt.opts(invert_yaxis=True)\n",
    ")"
   ]
  },
  {
   "cell_type": "markdown",
   "id": "76a5903a-ecad-4511-b88b-e22a22d57c84",
   "metadata": {
    "slideshow": {
     "slide_type": "skip"
    },
    "tags": [],
    "user_expressions": []
   },
   "source": [
    ":::{attention} Exercise 1\n",
    "Open the \"practice.ipynb\" notebook and tackle the first exercise.\n",
    ":::"
   ]
  },
  {
   "cell_type": "markdown",
   "id": "688d989b-0bab-4a51-af52-33a23d08cfae",
   "metadata": {
    "slideshow": {
     "slide_type": "skip"
    },
    "tags": [],
    "user_expressions": []
   },
   "source": [
    "### Combining"
   ]
  },
  {
   "cell_type": "markdown",
   "id": "2ac25adf-da80-45c4-a5ff-1fa4d2375c33",
   "metadata": {
    "slideshow": {
     "slide_type": "skip"
    },
    "tags": [],
    "user_expressions": []
   },
   "source": [
    "Data arrays that come from different sources can be joined wherever the coordinates match."
   ]
  },
  {
   "cell_type": "code",
   "execution_count": null,
   "id": "c307e4d7-888f-4af9-8d16-4095b7a953ec",
   "metadata": {
    "slideshow": {
     "slide_type": "slide"
    },
    "tags": []
   },
   "outputs": [],
   "source": [
    "chla = xarray.DataArray(\n",
    "    data=[\n",
    "        [1.3, 1.1, 0.5],\n",
    "        [0.2, 0.2, 0.4],\n",
    "    ],\n",
    "    coords={\n",
    "        'depth': [0.0, 10.0],\n",
    "        'time': station['time'],\n",
    "    },\n",
    "    name='chla',\n",
    ")\n",
    "chla"
   ]
  },
  {
   "cell_type": "markdown",
   "id": "34ae4813-32e4-453f-90f0-90d6349e2305",
   "metadata": {
    "slideshow": {
     "slide_type": "skip"
    },
    "tags": [],
    "user_expressions": []
   },
   "source": [
    ":::{tip} xarray.merge(objects)\n",
    "Returns a new xarray.Dataset with arrays and coordinates from the input objects, combining coordinates and resizing arrays as needed. The result is highly configurable with additional arguments.\n",
    ":::"
   ]
  },
  {
   "cell_type": "code",
   "execution_count": null,
   "id": "34ec6bff-4229-48fd-9c5c-819029ccc81e",
   "metadata": {
    "slideshow": {
     "slide_type": "slide"
    },
    "tags": []
   },
   "outputs": [],
   "source": [
    "station = xarray.merge((station, chla))\n",
    "station['chla']"
   ]
  },
  {
   "cell_type": "markdown",
   "id": "fb02b5e0-eb2c-4644-9209-626251c911d5",
   "metadata": {
    "slideshow": {
     "slide_type": "slide"
    },
    "tags": [],
    "user_expressions": []
   },
   "source": [
    "## Files for Array Data"
   ]
  },
  {
   "cell_type": "markdown",
   "id": "5a38f6d2-4233-4c9e-8c50-6f5afd121fe8",
   "metadata": {
    "slideshow": {
     "slide_type": "skip"
    },
    "tags": [],
    "user_expressions": []
   },
   "source": [
    "Multi-dimensional arrays containing earth observations tend to be large datasets, too large to store in a text file. While text-based data formats like CSV, JSON, and even XLSX, are convenient, binary files pack data more densely and work faster."
   ]
  },
  {
   "cell_type": "markdown",
   "id": "acf87559-e4d8-419f-a494-77b0f5ee7285",
   "metadata": {
    "slideshow": {
     "slide_type": "skip"
    },
    "tags": [],
    "user_expressions": []
   },
   "source": [
    "### Science Data Files"
   ]
  },
  {
   "cell_type": "markdown",
   "id": "39d405e1-7c6d-4768-a43d-62bf32d62d46",
   "metadata": {
    "slideshow": {
     "slide_type": "skip"
    },
    "tags": [],
    "user_expressions": []
   },
   "source": [
    "XArray can read and write multiple binary formats natively and many more formats can be read into the XArray objects using the rioxarray package. Natively, XArray will read the Hierarchical Data Format (HDF), the closely related NetCDF format, and Zarr. Common file extensions for these formats are `.h5`, `.nc`, `.nc4`, or `.zarr`."
   ]
  },
  {
   "cell_type": "markdown",
   "id": "a09f40d5-4067-4818-9b45-a1bc7d412904",
   "metadata": {
    "slideshow": {
     "slide_type": "skip"
    },
    "tags": [],
    "user_expressions": []
   },
   "source": [
    ":::{note} HDF5 and NetCDF4\n",
    "HDF version 5 is part of NetCDF version 4: NetCDF changed in version 4 to rely on HDF version 5 under the hood. Prior versions of both formats are not as well supported but may be encountered in the wild.\n",
    ":::"
   ]
  },
  {
   "cell_type": "code",
   "execution_count": null,
   "id": "065da20e-9916-43c2-a685-01fb35665bc0",
   "metadata": {
    "slideshow": {
     "slide_type": "slide"
    },
    "tags": []
   },
   "outputs": [],
   "source": [
    "file = (\n",
    "    DATADIR\n",
    "    / 'oco-3-co2-data'\n",
    "    / 'oco3_LtCO2_200228_B10400Br_220317235859s.nc4'\n",
    ")\n",
    "oco3 = xarray.open_dataset(file, chunks={})\n",
    "oco3['xco2']"
   ]
  },
  {
   "cell_type": "markdown",
   "id": "03d3c773-d698-4e60-ab4d-260d97b91511",
   "metadata": {
    "slideshow": {
     "slide_type": "skip"
    },
    "tags": [],
    "user_expressions": []
   },
   "source": [
    ":::{seealso} Attributes\n",
    "File formats used for array data also store metadata that XArray reads into an `attrs` dictionary. The `xco2` data array has attributes that follow the CF Conventions for metadata, including the all important `units` attribute. The dataset has attributes that are not specific to a variable.\n",
    ":::"
   ]
  },
  {
   "cell_type": "code",
   "execution_count": null,
   "id": "05ff3727-aa60-460c-8539-cd26d99abd8b",
   "metadata": {
    "slideshow": {
     "slide_type": "slide"
    },
    "tags": []
   },
   "outputs": [],
   "source": [
    "oco3.attrs['Platform']"
   ]
  },
  {
   "cell_type": "markdown",
   "id": "667a4102-54a5-4fb8-a11d-29d90671b757",
   "metadata": {
    "slideshow": {
     "slide_type": "skip"
    },
    "tags": [],
    "user_expressions": []
   },
   "source": [
    "Opening a dataset like this for the first time demands some visual exploration (always plot your data!). Subsetting the data by the date variable keeps it small for this tutorial."
   ]
  },
  {
   "cell_type": "code",
   "execution_count": null,
   "id": "220f24ca-ce5d-47dd-8c5e-bac53b2fbf95",
   "metadata": {
    "slideshow": {
     "slide_type": "skip"
    },
    "tags": []
   },
   "outputs": [],
   "source": [
    "oco3 = oco3.where((oco3['date'].isel({'epoch_dimension': 3}) == 15).compute(), drop=True)"
   ]
  },
  {
   "cell_type": "markdown",
   "id": "a46cf339-d899-4a4b-924c-fac53dd21a90",
   "metadata": {
    "slideshow": {
     "slide_type": "skip"
    },
    "tags": [],
    "user_expressions": []
   },
   "source": [
    "The dataset includes date, latitude, and longitude values along the same coordinate, `sounding_id`. This is a not an image with a latitude and longitude dimension; instead, these data are a flight trajectory and more amenable to a scatter plot. The date variable is non standard, it would take a few steps to create a standard datetime variable to include in any plots."
   ]
  },
  {
   "cell_type": "code",
   "execution_count": null,
   "id": "55e37f7f-b5ec-4c00-82ee-f849f5c0ac54",
   "metadata": {
    "slideshow": {
     "slide_type": "slide"
    },
    "tags": []
   },
   "outputs": [],
   "source": [
    "oco3_pandas = oco3[['latitude', 'longitude', 'xco2']].to_dataframe()\n",
    "oco3_pandas.hvplot.scatter(x='longitude', y='latitude', color='xco2')"
   ]
  },
  {
   "cell_type": "markdown",
   "id": "f504cc76-293d-48c8-b208-8277383f6529",
   "metadata": {
    "slideshow": {
     "slide_type": "skip"
    },
    "tags": [],
    "user_expressions": []
   },
   "source": [
    ":::{attention} Exercise 2\n",
    "Open the \"practice.ipynb\" notebook and tackle the second exercise.\n",
    ":::"
   ]
  },
  {
   "cell_type": "markdown",
   "id": "fd91b557-2341-46ae-93c1-fa184f4783eb",
   "metadata": {
    "slideshow": {
     "slide_type": "skip"
    },
    "tags": [],
    "user_expressions": []
   },
   "source": [
    "### Geospatial Data Files"
   ]
  },
  {
   "cell_type": "markdown",
   "id": "d961668d-89fd-4661-9ebe-e967e3e6c88b",
   "metadata": {
    "slideshow": {
     "slide_type": "skip"
    },
    "tags": [],
    "user_expressions": []
   },
   "source": [
    "Dedicated packages are available for working with data arrays that have geospatial coordinates, such as the latitude and longitude values in the OCO3 dataset. GeoPandas, an extension to Pandas developed for geospatial data manipulation, is one example. Casting the OCO3 data to a GeoPandas data frame provides some immediate enhancements to the scatter plot."
   ]
  },
  {
   "cell_type": "code",
   "execution_count": null,
   "id": "3b37e020-d0a3-43e9-8a65-b28dd9791f12",
   "metadata": {
    "slideshow": {
     "slide_type": "slide"
    },
    "tags": []
   },
   "outputs": [],
   "source": [
    "oco3_vector = geopandas.GeoDataFrame(\n",
    "    data={'xco2': oco3['xco2']},\n",
    "    geometry=geopandas.points_from_xy(\n",
    "        oco3['longitude'],\n",
    "        oco3['latitude'],\n",
    "    ),\n",
    ")\n",
    "oco3_vector['geometry']"
   ]
  },
  {
   "cell_type": "code",
   "execution_count": null,
   "id": "ed389161-bf37-48f8-9091-7df10c4c21f3",
   "metadata": {
    "slideshow": {
     "slide_type": "slide"
    },
    "tags": []
   },
   "outputs": [],
   "source": [
    "oco3_vector.hvplot.points(color='xco2', coastline=True)"
   ]
  },
  {
   "cell_type": "markdown",
   "id": "fd7a3b35-5b07-4a6f-9369-a87132c689cd",
   "metadata": {
    "slideshow": {
     "slide_type": "skip"
    },
    "tags": [],
    "user_expressions": []
   },
   "source": [
    "::::{grid} 1 1 2 2\n",
    "\n",
    ":::{seealso} Vector Geospatial Data\n",
    "A geospatial \"vector\" dataset is one-dimensional data with a coordinate whose data type is a compound data type (i.e. not a scalar integer or float) that represents either a point, a linestring, a polygon, or some combination of these. The `oco3_vector` data frame has a variable with such a `dtype`, and by convention this variable is also named \"geometry\".\n",
    ":::\n",
    "\n",
    ":::{seealso} Raster Geospatial Data\n",
    "A data array with two dimensions corresponding either to latitude and longitude or to projected \"x\" and \"y\" coordinates, is called a \"raster\". What makes a raster different from any other two-dimensional data array is required metadata declaring how to interpret the coordinates by rigid specification of the Coordinate Reference System (CRS).\n",
    ":::\n",
    "\n",
    "::::"
   ]
  },
  {
   "cell_type": "markdown",
   "id": "5816fbc0-7b94-4915-bf2a-0b16385c1ecf",
   "metadata": {
    "slideshow": {
     "slide_type": "skip"
    },
    "tags": [],
    "user_expressions": []
   },
   "source": [
    "There are both text-based (e.g. `.geojson`) and binary (e.g. `.shp`) file formats specific to vector data. Text-based formats, as usual, are convenient for small datasets. Clipping a collection of geometries by a bounding box is another enhancement GeoPandas brings to data frames, which drastically shrinks the global OCO3 dataset before saving it as GeoJSON."
   ]
  },
  {
   "cell_type": "code",
   "execution_count": null,
   "id": "9d007859-e6cc-4174-a450-7b4d75e8eacb",
   "metadata": {
    "slideshow": {
     "slide_type": "slide"
    },
    "tags": [],
    "user_expressions": []
   },
   "outputs": [],
   "source": [
    "oco3_vector = oco3_vector.cx[-82:-72, 42:36]\n",
    "oco3_vector.to_file('oco3_vector.geojson')"
   ]
  },
  {
   "cell_type": "markdown",
   "id": "59df86f0-895e-431c-9819-56a4b44cc6b7",
   "metadata": {
    "slideshow": {
     "slide_type": "skip"
    },
    "tags": [],
    "user_expressions": []
   },
   "source": [
    "The rioxarray package extends XArray to read multiple binary formats for rasters leveraging all the utility of the Geospatial Data Abstraction Library (GDAL). A common file extension for raster data is `.tif`, but not all `.tif` files include a CRS. Some NetCDF files are recognized by GDAL as containing rasters because they include the CRS in an attribute (e.g. the attribute `crs_wkt`)."
   ]
  },
  {
   "cell_type": "markdown",
   "id": "244e2aca-bfa8-4fb7-aa59-48ad9bcc368f",
   "metadata": {
    "slideshow": {
     "slide_type": "skip"
    },
    "tags": [],
    "user_expressions": []
   },
   "source": [
    ":::{tip} rasterio.Env\n",
    "For GDAL to work correctly with file objects on AWS, the rasterio package implements a Python context manager that sets all the relevant GDAL configuration for remote data access.\n",
    ":::"
   ]
  },
  {
   "cell_type": "markdown",
   "id": "e75b21ba-13ca-45af-9a48-dff152afe473",
   "metadata": {
    "slideshow": {
     "slide_type": "skip"
    },
    "tags": [],
    "user_expressions": []
   },
   "source": [
    "Large data collections are best left where they lie, especially when they lie on Amazon's S3. "
   ]
  },
  {
   "cell_type": "code",
   "execution_count": null,
   "id": "ca8ec41b-327d-46d0-8d6c-5465390102ff",
   "metadata": {
    "scrolled": true,
    "slideshow": {
     "slide_type": "slide"
    },
    "tags": []
   },
   "outputs": [],
   "source": [
    "!pip install --user git+https://github.com/NASA-SARP/sarp-east-toolkit.git"
   ]
  },
  {
   "cell_type": "code",
   "execution_count": null,
   "id": "82879278-2711-400c-aafe-431d5a35c74f",
   "metadata": {
    "slideshow": {
     "slide_type": "slide"
    },
    "tags": []
   },
   "outputs": [],
   "source": [
    "from sarp_east_toolkit import earthdata_rio\n",
    "\n",
    "rio_env = earthdata_rio('ornldaac')"
   ]
  },
  {
   "cell_type": "code",
   "execution_count": null,
   "id": "2c231a59-70c6-4d67-adcb-9add623c0b16",
   "metadata": {
    "slideshow": {
     "slide_type": "slide"
    },
    "tags": []
   },
   "outputs": [],
   "source": [
    "fileobj = (\n",
    "    's3://ornl-cumulus-prod-protected/'\n",
    "    'gedi/GEDI_L4B_Gridded_Biomass/data/'\n",
    "    'GEDI04_B_MW019MW138_02_002_05_R01000M_MU.tif'\n",
    ")\n",
    "with rio_env as env:\n",
    "    raster = xarray.open_dataset(fileobj, engine='rasterio', chunks={})\n",
    "raster"
   ]
  },
  {
   "cell_type": "markdown",
   "id": "82357876-95c3-4ba5-a650-5af52fa6a81d",
   "metadata": {
    "slideshow": {
     "slide_type": "skip"
    },
    "tags": [],
    "user_expressions": [
     {
      "expression": "f\"{raster['band_data'].data.nbytes / 1024**3:.2} GB\"",
      "result": {
       "data": {
        "text/plain": "'1.9 GB'"
       },
       "metadata": {},
       "status": "ok"
      }
     }
    ]
   },
   "source": [
    "The band_data variable requires {eval}`f\"{raster['band_data'].data.nbytes / 1024**3:.2} GB\"` of memory to load, which despite the speed of S3 will still be slower than reading from local storage. Fortunately, it is possible to read only the subset of the file corresponding to a selection."
   ]
  },
  {
   "cell_type": "code",
   "execution_count": null,
   "id": "1bc24a9d-ee4d-4f9f-93c1-a603ef527cbf",
   "metadata": {
    "scrolled": true,
    "slideshow": {
     "slide_type": "slide"
    },
    "tags": []
   },
   "outputs": [],
   "source": [
    "raster['spatial_ref']"
   ]
  },
  {
   "cell_type": "code",
   "execution_count": null,
   "id": "1db7344a-88fd-4ef5-956a-ea8689b42b89",
   "metadata": {
    "slideshow": {
     "slide_type": "slide"
    },
    "tags": []
   },
   "outputs": [],
   "source": [
    "crs = raster.rio.crs\n",
    "crs"
   ]
  },
  {
   "cell_type": "code",
   "execution_count": null,
   "id": "f8b282a8-160d-4ce8-be82-8874b8cd8f89",
   "metadata": {
    "scrolled": true,
    "slideshow": {
     "slide_type": "slide"
    },
    "tags": [
     "raises-exception"
    ]
   },
   "outputs": [],
   "source": [
    "oco3_vector_prj = oco3_vector.to_crs(crs)"
   ]
  },
  {
   "cell_type": "markdown",
   "id": "0571dc74-82b6-4328-8e0c-43b91502bce3",
   "metadata": {
    "slideshow": {
     "slide_type": "skip"
    },
    "tags": [],
    "user_expressions": []
   },
   "source": [
    "In fact, both raster and vector geospatial arrays need a defined CRS. The GeoJSON format skips over this added complexity by declaring that all GeoJSON data must use the CRS known as \"EPSG:4326\". These [EPSG codes](https://spatialreference.org/) exist because defining exactly how a location in, on, or above Earth is assigned coordinates is very complicated!"
   ]
  },
  {
   "cell_type": "code",
   "execution_count": null,
   "id": "84faa3f1-cbad-4610-8c13-ff1338eddaf2",
   "metadata": {
    "slideshow": {
     "slide_type": "slide"
    },
    "tags": []
   },
   "outputs": [],
   "source": [
    "oco3_vector_prj = oco3_vector.set_crs(epsg=4326).to_crs(crs)\n",
    "oco3_vector_prj.crs"
   ]
  },
  {
   "cell_type": "markdown",
   "id": "49d25f63-4007-42f3-8160-055c24d9a2d6",
   "metadata": {
    "slideshow": {
     "slide_type": "skip"
    },
    "tags": [],
    "user_expressions": []
   },
   "source": [
    "With the vector and raster data sets in the same CRS, it is possible to use the total geospatial extent of the OCO3 data to clip the GEDI data. \"Clipping\" is just geospatial jargon for selecting a slice along the two coordinates of a data array."
   ]
  },
  {
   "cell_type": "code",
   "execution_count": null,
   "id": "3b656bb5-cc7c-4d7e-b178-58101bbc438a",
   "metadata": {
    "slideshow": {
     "slide_type": "slide"
    },
    "tags": []
   },
   "outputs": [],
   "source": [
    "bbox = oco3_vector_prj.total_bounds\n",
    "bbox"
   ]
  },
  {
   "cell_type": "code",
   "execution_count": null,
   "id": "9c3fb558-2407-4505-baad-097d757c2e32",
   "metadata": {
    "tags": []
   },
   "outputs": [],
   "source": [
    "biomass_density = (\n",
    "    raster['band_data']\n",
    "    .sel({'band': 1})\n",
    "    .rio.clip_box(*bbox)\n",
    ")\n",
    "biomass_density.data.nbytes"
   ]
  },
  {
   "cell_type": "markdown",
   "id": "5d811b0a-0c4c-4379-9a91-dd8c88ca992f",
   "metadata": {
    "slideshow": {
     "slide_type": "skip"
    },
    "tags": [],
    "user_expressions": []
   },
   "source": [
    "The resulting raster is small enough now to load and visualize together with the vector data."
   ]
  },
  {
   "cell_type": "code",
   "execution_count": null,
   "id": "789020d0-61a4-498d-9ad2-84093707236e",
   "metadata": {
    "slideshow": {
     "slide_type": "slide"
    },
    "tags": []
   },
   "outputs": [],
   "source": [
    "(\n",
    "    biomass_density.hvplot.image(crs=crs.to_epsg())\n",
    "    * oco3_vector_prj.hvplot.points(color='orange', crs=crs.to_epsg())\n",
    ")"
   ]
  },
  {
   "cell_type": "markdown",
   "id": "90b95f88-413c-4f64-8202-b4c4ef508ac9",
   "metadata": {
    "slideshow": {
     "slide_type": "skip"
    },
    "tags": [],
    "user_expressions": []
   },
   "source": [
    ":::{hint} Surprise!\n",
    "What have we learned after all that work? GEDI and OCO3 must be on the same platform!\n",
    ":::"
   ]
  },
  {
   "cell_type": "markdown",
   "id": "738bba98-bfab-469a-94b2-b3b1c7f13df1",
   "metadata": {
    "slideshow": {
     "slide_type": "slide"
    },
    "tags": [],
    "user_expressions": []
   },
   "source": [
    "# Next Steps"
   ]
  },
  {
   "cell_type": "markdown",
   "id": "26e180b0-4b5d-4f24-a6ba-53bd90ba510f",
   "metadata": {
    "slideshow": {
     "slide_type": "slide"
    },
    "tags": [],
    "user_expressions": []
   },
   "source": [
    "- This introduction to XArray leaves a lot out. A few suggestions to [read up](https://pypi.org) on:\n",
    "    - `xarray.open_mfdataset` for reading a dataset stored in multiple files\n",
    "    - `xarray.Dataset.groupby` or `xarray.DataArray.groupby` for complex array operations\n",
    "    - the [xarray-datatree](https://xarray-datatree.readthedocs.io/en/latest/) for reading files with \"groups\" of data arrays (i.e. the \"hierarchical\" part of HDF)."
   ]
  },
  {
   "cell_type": "markdown",
   "id": "66fef412-cec3-47d2-9711-1d41c90a99d8",
   "metadata": {
    "slideshow": {
     "slide_type": "slide"
    },
    "tags": [],
    "user_expressions": []
   },
   "source": [
    "- Coordinate Reference Systems, and switching between them, is a really challenging aspect of working with geospatial data. Dive into learning about CRS at [pygis.io](https://pygis.io/docs/d_crs_what_is_it.html)."
   ]
  },
  {
   "cell_type": "markdown",
   "id": "75073043-7677-4122-b25a-f9b5ab601bb8",
   "metadata": {
    "slideshow": {
     "slide_type": "slide"
    },
    "tags": [],
    "user_expressions": []
   },
   "source": [
    "- Needing help is to be expected, but getting help is more likely with good questions:\n",
    "  - read the documentation\n",
    "  - write a Minimal Reproducible Example ([MRE](https://stackoverflow.com/help/minimal-reproducible-example))\n",
    "  - post your question and MRE in a suitable forum (not a package issue tracker)"
   ]
  },
  {
   "cell_type": "markdown",
   "id": "86153586-5872-49af-bf51-b5b31b29c26d",
   "metadata": {
    "slideshow": {
     "slide_type": "skip"
    },
    "tags": [],
    "user_expressions": []
   },
   "source": [
    ":::{attention} Exercise 3\n",
    "Open the \"practice.ipynb\" notebook and tackle the final exercise.\n",
    ":::"
   ]
  },
  {
   "cell_type": "markdown",
   "id": "1c08d5fb-f0a5-4126-870b-0b3dba0cd5f8",
   "metadata": {
    "slideshow": {
     "slide_type": "slide"
    },
    "tags": [],
    "user_expressions": []
   },
   "source": [
    "## Closing Poll"
   ]
  },
  {
   "cell_type": "markdown",
   "id": "ca3eb0a4-6442-439f-a9ea-002f2b0ad80f",
   "metadata": {
    "slideshow": {
     "slide_type": "skip"
    },
    "tags": [],
    "user_expressions": []
   },
   "source": [
    "The [closing poll](https://PollEv.com/clickable_images/WHersUlQe5SsG68KOHyfL/respond) which is, as all the others are, anonymous."
   ]
  },
  {
   "cell_type": "markdown",
   "id": "a5e7d894-21d2-4374-951b-eb8d031c5186",
   "metadata": {
    "slideshow": {
     "slide_type": "skip"
    },
    "tags": [],
    "user_expressions": []
   },
   "source": [
    ":::{danger} Shutdown\n",
    "Please shut down your server! (File > Hub Control Panel)\n",
    ":::"
   ]
  }
 ],
 "metadata": {
  "kernelspec": {
   "display_name": "Python 3 (ipykernel)",
   "language": "python",
   "name": "python3"
  },
  "language_info": {
   "codemirror_mode": {
    "name": "ipython",
    "version": 3
   },
   "file_extension": ".py",
   "mimetype": "text/x-python",
   "name": "python",
   "nbconvert_exporter": "python",
   "pygments_lexer": "ipython3",
   "version": "3.9.13"
  },
  "rise": {}
 },
 "nbformat": 4,
 "nbformat_minor": 5
}
