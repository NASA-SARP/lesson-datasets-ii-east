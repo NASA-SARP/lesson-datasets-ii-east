{
 "cells": [
  {
   "cell_type": "markdown",
   "id": "673b7518-1072-4208-9eb7-4c0b1770d24d",
   "metadata": {
    "tags": [],
    "user_expressions": []
   },
   "source": [
    "---\n",
    "title: Datasets II - Practice\n",
    "subtitle: Work with Satellite Images and Other Multi-dimensional Data\n",
    "authors:\n",
    "  - name: Ian Carroll\n",
    "    affiliations:\n",
    "      - University of Maryland Baltimore County\n",
    "      - NASA Goddard Space Flight Center\n",
    "  - name: Rachel Wegener\n",
    "    affiliations:\n",
    "      - University of Maryland College Park\n",
    "thumbnail: https://rwegener2.github.io/sarp_lessons/_static/sarp_logo.png\n",
    "github: itcarroll/itcarroll.github.io\n",
    "---"
   ]
  },
  {
   "cell_type": "markdown",
   "id": "c2f0bd0a-305b-4408-baed-ca489a56f082",
   "metadata": {
    "user_expressions": []
   },
   "source": [
    "## Exercise 1"
   ]
  },
  {
   "cell_type": "markdown",
   "id": "72ffc99e-5736-4929-abe7-d5aeaeb0d8bc",
   "metadata": {
    "user_expressions": []
   },
   "source": [
    ":::{dropdown} Problem\n",
    ":open:\n",
    "\n",
    "Level: I\n",
    "\n",
    ": Build a tiny multi-dimensional dataset from scratch (no reading from a file!). Make the first variable one-dimensional with a coordinate. Make a second variable in the same dataset that results from an algebraic operation on the first variable. What kind of earth system are you thinking about with these two variables?\n",
    "\n",
    "Level: II\n",
    "\n",
    ": Make the second variable the two-dimensional result of raising the first variable to the powers 0, 1, and 2. What is a practical application of doing this operation on a variable?\n",
    "\n",
    "Level: I took Data Visualization in Python last semester\n",
    "\n",
    ": Plot curves for each power of the second variable along the coordinate.\n",
    "\n",
    ":::"
   ]
  },
  {
   "cell_type": "code",
   "execution_count": null,
   "id": "cf70b4a4-3066-45b4-babb-34ed319b5872",
   "metadata": {},
   "outputs": [],
   "source": [
    "# your work here!"
   ]
  },
  {
   "cell_type": "markdown",
   "id": "3218c823-67cb-4ed0-b6fc-ba6fb79c8c89",
   "metadata": {
    "user_expressions": []
   },
   "source": [
    ":::{dropdown} Solution\n",
    "```\n",
    "import xarray\n",
    "import hvplot.xarray\n",
    "\n",
    "y = xarray.DataArray(\n",
    "    data=[-0.45, 0.5, -1.3, 0.6, 0.2],\n",
    "    coords={'x': [0.1, 2.3, 4.5, 5.6, 7.8]},\n",
    "    name='y'\n",
    ")\n",
    "problem = y.to_dataset()\n",
    "powers = xarray.DataArray([0, 1, 2], dims='n')\n",
    "problem['y^n'] = y ** powers\n",
    "problem.hvplot(x='x', y='y^n', by='n')\n",
    "```\n",
    ":::"
   ]
  },
  {
   "cell_type": "markdown",
   "id": "797b14e7-d3db-4928-84c6-7cd1f3e74e3b",
   "metadata": {
    "user_expressions": []
   },
   "source": [
    "## Exercise 2"
   ]
  },
  {
   "cell_type": "markdown",
   "id": "b363c2f2-40ec-4324-af4d-3db92734cc26",
   "metadata": {
    "user_expressions": []
   },
   "source": [
    ":::{dropdown} Problem\n",
    ":open:\n",
    "\n",
    "The OCO3 file has a peculiar way of storing the datetime for each sounding. The `date` variable has `epoch_dimension` as its second dimension: the 7 elements along this dimension correspond to year, month, day, hour, minute, second, and microsecond.\n",
    "\n",
    "Level: I\n",
    "\n",
    ": Read in any OCO3 data file and find the minimum and maximum dates.\n",
    "\n",
    "Level: I already knew about pandas.to_datetime\n",
    "\n",
    ": Create a new variable in the dataset with the date converted to a datetime, getting rid of the epoch_dimension but keeping the sounding_id dimension\n",
    "\n",
    ":::"
   ]
  },
  {
   "cell_type": "code",
   "execution_count": null,
   "id": "839cc14e-8dc5-4ff9-b447-340348561b1d",
   "metadata": {
    "tags": []
   },
   "outputs": [],
   "source": [
    "# your work here!"
   ]
  },
  {
   "cell_type": "markdown",
   "id": "2cdc9603-bc25-4afd-b48a-63330a93b748",
   "metadata": {
    "user_expressions": []
   },
   "source": [
    ":::{dropdown} Solution\n",
    "```\n",
    "from pathlib import Path\n",
    "\n",
    "import xarray\n",
    "import pandas\n",
    "\n",
    "\n",
    "file = (\n",
    "    Path('/efs/sarp/data/rawdata_readonly')\n",
    "    / 'oco-3-co2-data'\n",
    "    / 'oco3_LtCO2_200228_B10400Br_220317235859s.nc4'\n",
    ")\n",
    "oco3 = xarray.open_dataset(file)\n",
    "\n",
    "min_date = oco3['date'].min(dim='sounding_id')\n",
    "print(min_date.data)\n",
    "max_date = oco3['date'].max(dim='sounding_id')\n",
    "print(max_date.data)\n",
    "\n",
    "date = oco3['date'].assign_coords({\n",
    "    'epoch_dimension': ['year', 'month', 'day', 'hour', 'minute', 'second', 'microsecond']\n",
    "})\n",
    "date_pandas = date.to_dataset(dim='epoch_dimension').to_dataframe()\n",
    "oco3['datetime'] = pandas.to_datetime(date_pandas)\n",
    "```\n",
    ":::"
   ]
  },
  {
   "cell_type": "markdown",
   "id": "84aac295-595b-4285-9ba9-6b5cebcea3aa",
   "metadata": {
    "tags": [],
    "user_expressions": []
   },
   "source": [
    "## Exercise 3"
   ]
  },
  {
   "cell_type": "markdown",
   "id": "5a94fdad-e0e8-4319-b458-a72ef73bc15d",
   "metadata": {
    "user_expressions": []
   },
   "source": [
    ":::{dropdown} Problem\n",
    ":open:\n",
    "\n",
    "The lesson demonstrated twice what the result of a programming error looks like in Python. The second error occurred while trying to reproject a GeoPandas data frame to a given CRS. Compose a minimal reproducible example (MRE) that raises the same error. The purpose of an MRE is for asking help, probably from someone who has no interest in your data but knows Python really well. You want to make it as easy as possible for them to cause the error to happen on their own machine, so don't expect them to download any data.\n",
    "\n",
    ":::"
   ]
  },
  {
   "cell_type": "code",
   "execution_count": null,
   "id": "ad8b0013-8d01-4c8e-8d1c-433992a9200a",
   "metadata": {},
   "outputs": [],
   "source": [
    "# your work here!"
   ]
  },
  {
   "cell_type": "markdown",
   "id": "22018211-4b71-4b30-aaa2-ed8a1de50a58",
   "metadata": {
    "user_expressions": []
   },
   "source": [
    ":::{dropdown} Solution\n",
    "```\n",
    "from shapely.geometry import Point\n",
    "import geopandas\n",
    "\n",
    "gdf = geopandas.GeoDataFrame(\n",
    "    data=[0, 1, 2],\n",
    "    geometry=[Point(0, 0), Point(0, 1), Point(1, 0)]\n",
    ")\n",
    "gdf.to_crs(epsg=6933)\n",
    "```\n",
    ":::"
   ]
  }
 ],
 "metadata": {
  "kernelspec": {
   "display_name": "Python 3 (ipykernel)",
   "language": "python",
   "name": "python3"
  },
  "language_info": {
   "codemirror_mode": {
    "name": "ipython",
    "version": 3
   },
   "file_extension": ".py",
   "mimetype": "text/x-python",
   "name": "python",
   "nbconvert_exporter": "python",
   "pygments_lexer": "ipython3",
   "version": "3.9.13"
  }
 },
 "nbformat": 4,
 "nbformat_minor": 5
}
